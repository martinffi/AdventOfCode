{
 "cells": [
  {
   "cell_type": "code",
   "execution_count": 15,
   "id": "c6b66313-b286-43b7-b253-f8fd05901f46",
   "metadata": {},
   "outputs": [
    {
     "name": "stdout",
     "output_type": "stream",
     "text": [
      "The distance to Easter Bunny headquarters is 241\n",
      "The distance to the first location visited twice is 116\n"
     ]
    }
   ],
   "source": [
    "instructions = [x.strip() for x in open('input1.txt', 'r').read().split(',')]\n",
    "\n",
    "directions = [(1,0), (0,1), (-1, 0), (0, -1)]\n",
    "direction = 0\n",
    "\n",
    "visited = set()\n",
    "coordinate = (0, 0)\n",
    "visited.add(coordinate)\n",
    "first_double = None\n",
    "\n",
    "for instruction in instructions:\n",
    "    if instruction[0] == 'R':\n",
    "        direction = (direction + 1) % len(directions)\n",
    "    else:\n",
    "        direction = (direction - 1) % len(directions)\n",
    "\n",
    "    distance = int(instruction[1:])\n",
    "    for i in range(1, distance+1):\n",
    "        #print(coordinate)\n",
    "        coordinate = (coordinate[0] + directions[direction][0], coordinate[1] + directions[direction][1])\n",
    "        \n",
    "        if coordinate in visited and first_double is None:\n",
    "            #print(visited)\n",
    "            #print(coordinate)\n",
    "            first_double = coordinate\n",
    "\n",
    "        visited.add(coordinate)\n",
    "\n",
    "print(f'The distance to Easter Bunny headquarters is {abs(coordinate[0]) + abs(coordinate[1])}')\n",
    "print(f'The distance to the first location visited twice is {abs(first_double[0]) + abs(first_double[1])}')"
   ]
  },
  {
   "cell_type": "code",
   "execution_count": 25,
   "id": "70a5bcf1-7510-47fa-bcb3-1c0fe0928eb3",
   "metadata": {},
   "outputs": [
    {
     "name": "stdout",
     "output_type": "stream",
     "text": [
      "76792\n",
      "A7AC3\n"
     ]
    }
   ],
   "source": [
    "instructions = open('input2.txt', 'r').readlines()\n",
    "numpad = [['1', '2', '3'], ['4', '5', '6'], ['7', '8', '9']]\n",
    "weird_numpad = [[None, None, '1', None, None], [None, '2', '3', '4', None], ['5', '6', '7', '8', '9'], [None, 'A', 'B', 'C', None], [None, None, 'D', None, None]]\n",
    "\n",
    "x, y = 1, 1\n",
    "weird_x, weird_y = 3, 3\n",
    "\n",
    "moves = {'U': (-1, 0), 'R': (0, 1), 'D': (1, 0), 'L': (0, -1)}\n",
    "def perform_move(move, x, y, weird_x, weird_y):\n",
    "    dx, dy = moves[move]\n",
    "    x = max(0, min(2, x+dx))\n",
    "    y = max(0, min(2, y+dy))\n",
    "\n",
    "    try:\n",
    "        if weird_numpad[weird_x+dx][weird_y] is not None:\n",
    "            weird_x += dx\n",
    "    except IndexError:\n",
    "        pass\n",
    "\n",
    "    try:\n",
    "        if weird_numpad[weird_x][weird_y+dy] is not None:\n",
    "            weird_y += dy\n",
    "    except IndexError:\n",
    "        pass\n",
    "        \n",
    "    return x, y, weird_x, weird_y\n",
    "\n",
    "code = ''\n",
    "weird_code = ''\n",
    "\n",
    "for instruction in instructions:\n",
    "    for c in instruction.strip():\n",
    "        x, y, weird_x, weird_y = perform_move(c, x, y, weird_x, weird_y)\n",
    "    code += numpad[x][y]\n",
    "    weird_code += weird_numpad[weird_x][weird_y]\n",
    "print(code)\n",
    "print(weird_code)"
   ]
  },
  {
   "cell_type": "code",
   "execution_count": 36,
   "id": "bcdd81d8-c381-448d-bb12-5b67a0f7b5a9",
   "metadata": {},
   "outputs": [
    {
     "name": "stdout",
     "output_type": "stream",
     "text": [
      "The number of valid triangles is 1032\n",
      "The number of valid other triangles is 1838\n"
     ]
    }
   ],
   "source": [
    "triangles = [[int(x) for x in line.strip().split()] for line in open('input3.txt', 'r').readlines()]\n",
    "def check_triangle(triangle):\n",
    "    a, b, c = sorted(triangle)\n",
    "    if a + b <= c or a + c <= b or b + c <= a:\n",
    "        return False\n",
    "    return True\n",
    "print(f'The number of valid triangles is {sum(1 for triangle in triangles if check_triangle(triangle))}')\n",
    "\n",
    "new_triangles = []\n",
    "for i in range(0, len(triangles), 3):\n",
    "    for j in range(len(triangles[0])):\n",
    "        triangle = []\n",
    "        triangle.append(triangles[i][j])\n",
    "        triangle.append(triangles[i+1][j])\n",
    "        triangle.append(triangles[i+2][j])\n",
    "        new_triangles.append(triangle)\n",
    "\n",
    "print(f'The number of valid other triangles is {sum(1 for triangle in new_triangles if check_triangle(triangle))}')"
   ]
  },
  {
   "cell_type": "code",
   "execution_count": 63,
   "id": "b70972ad-e45a-48ba-8693-0dc9eb74bc61",
   "metadata": {},
   "outputs": [
    {
     "name": "stdout",
     "output_type": "stream",
     "text": [
      "The sum of the valid sector IDs is 137896\n",
      "The room id of the room 'northpole object storage' is 501\n"
     ]
    }
   ],
   "source": [
    "import re\n",
    "rooms = open('input4.txt', 'r').read().strip().split('\\n')\n",
    "\n",
    "def count_and_sort(string):\n",
    "    list = []\n",
    "    for c in set(string):\n",
    "        if c == '-':\n",
    "            continue\n",
    "        list.append((c, string.count(c)))\n",
    "    list.sort(key=lambda e:e[0])\n",
    "    list.sort(key=lambda e:e[1], reverse=True)\n",
    "    return list\n",
    "\n",
    "valid = []\n",
    "\n",
    "for room in rooms:\n",
    "    match = re.search('(.+?)([0-9]+)\\\\[(.+)\\\\]', room)\n",
    "    name, id, checksum = match.group(1), int(match.group(2)), match.group(3)\n",
    "    common = count_and_sort(name)\n",
    "    is_valid = True\n",
    "    \n",
    "    for index, c in enumerate(checksum):\n",
    "        if c != common[index][0]:\n",
    "            is_valid = False\n",
    "            break\n",
    "\n",
    "    if is_valid:\n",
    "        valid.append((name, id))\n",
    "\n",
    "print(f'The sum of the valid sector IDs is {sum(id for name, id in valid)}')\n",
    "\n",
    "for encrypted, id in valid:\n",
    "    decrypted = ''\n",
    "    for c in encrypted:\n",
    "        if c == '-':\n",
    "            decrypted += ' '\n",
    "            continue\n",
    "        cipher = ord(c) - ord('a')\n",
    "        cipher = (cipher + id) % (ord('z') - ord('a') + 1) + ord('a')\n",
    "        decrypted += chr(cipher)\n",
    "\n",
    "    if 'north' in decrypted.lower():\n",
    "        print(f'The room id of the room \\'{decrypted.strip()}\\' is {id}')"
   ]
  },
  {
   "cell_type": "code",
   "execution_count": 1,
   "id": "a19f48b9-e444-4de2-920a-0301924ee629",
   "metadata": {},
   "outputs": [
    {
     "name": "stdout",
     "output_type": "stream",
     "text": [
      "The simple password is 2414bc77\n",
      "The stronger password is 437e60fc"
     ]
    }
   ],
   "source": [
    "import hashlib\n",
    "\n",
    "start_phrase = 'wtnhxymk'\n",
    "password = ''\n",
    "stronger_password = ['*' for i in range(8)]\n",
    "accepted_positions = set()\n",
    "\n",
    "index = 0\n",
    "while len(accepted_positions) < 8:\n",
    "    while not (hash := hashlib.md5((start_phrase + str(index)).encode('UTF-8')).hexdigest()).startswith('00000'):\n",
    "        index += 1\n",
    "    \n",
    "    if len(password) < 8:\n",
    "        password += hash[5]\n",
    "        print(f'\\rThe simple password is {password}', end='')\n",
    "        if len(password) == 8:\n",
    "            print()\n",
    "            print(f'\\rThe stronger password is {\"\".join(c for c in stronger_password)}', end='')\n",
    "\n",
    "    position = int(hash[5], 16)\n",
    "    if position < 8 and position not in accepted_positions:\n",
    "        accepted_positions.add(position)\n",
    "        stronger_password[position] = hash[6]\n",
    "        if len(password) == 8:\n",
    "            print(f'\\rThe stronger password is {\"\".join(c for c in stronger_password)}', end='')\n",
    "    index += 1"
   ]
  },
  {
   "cell_type": "code",
   "execution_count": null,
   "id": "afb0f5be-2dc8-4e72-a626-d43e4217dc50",
   "metadata": {},
   "outputs": [],
   "source": []
  }
 ],
 "metadata": {
  "kernelspec": {
   "display_name": "Python 3 (ipykernel)",
   "language": "python",
   "name": "python3"
  },
  "language_info": {
   "codemirror_mode": {
    "name": "ipython",
    "version": 3
   },
   "file_extension": ".py",
   "mimetype": "text/x-python",
   "name": "python",
   "nbconvert_exporter": "python",
   "pygments_lexer": "ipython3",
   "version": "3.11.2"
  }
 },
 "nbformat": 4,
 "nbformat_minor": 5
}
