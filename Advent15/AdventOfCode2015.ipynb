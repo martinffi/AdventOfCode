{
 "cells": [
  {
   "cell_type": "code",
   "execution_count": 5,
   "id": "87b8947a-33f0-4cb0-ae84-1fde118c09a8",
   "metadata": {},
   "outputs": [
    {
     "name": "stdout",
     "output_type": "stream",
     "text": [
      "Santa ends up on floor 74\n",
      "He first hits the basement on instruction 1795\n"
     ]
    }
   ],
   "source": [
    "instructions = open('input1.txt', 'r').read()\n",
    "floor = 0\n",
    "hit_basement = False\n",
    "first_basement = 0\n",
    "for index, instruction in enumerate(instructions):\n",
    "    if instruction == '(':\n",
    "        floor += 1\n",
    "    else:\n",
    "        floor -= 1\n",
    "    if floor < 0 and not hit_basement:\n",
    "        first_basement = index+1\n",
    "        hit_basement = True\n",
    "print(f'Santa ends up on floor {floor}')\n",
    "print(f'He first hits the basement on instruction {first_basement}')"
   ]
  },
  {
   "cell_type": "code",
   "execution_count": 17,
   "id": "e89c7210-f608-47de-9553-22a389d113c3",
   "metadata": {},
   "outputs": [
    {
     "name": "stdout",
     "output_type": "stream",
     "text": [
      "The elves need 1606483.0 square feet of wrapping paper\n",
      "The elves need 3842356 feet of ribbon\n"
     ]
    }
   ],
   "source": [
    "boxes = [[int(x) for x in line.split('x')] for line in open('input2.txt', 'r').readlines()]\n",
    "paper_area = 2 * sum(x*y + x*z + y*z + 0.5*min(x*y, x*z, y*z) for x,y,z in boxes)\n",
    "print(f'The elves need {paper_area} square feet of wrapping paper')\n",
    "\n",
    "ribbon = sum(min(2*(x+y), 2*(x+z), 2*(y+z)) + x*y*z for x,y,z in boxes)\n",
    "print(f'The elves need {ribbon} feet of ribbon')"
   ]
  },
  {
   "cell_type": "code",
   "execution_count": 28,
   "id": "dbb007b2-1664-4fd5-97db-8dc184e87a96",
   "metadata": {},
   "outputs": [
    {
     "name": "stdout",
     "output_type": "stream",
     "text": [
      "Santa has visited 2592 houses\n",
      "Santa and Robo-Santa have visited 2360 houses\n"
     ]
    }
   ],
   "source": [
    "instructions = open('input3.txt', 'r').read()\n",
    "visited = set()\n",
    "doubles = set()\n",
    "\n",
    "first_santa = (0,0)\n",
    "normal_santa = (0,0)\n",
    "robo_santa = (0,0)\n",
    "\n",
    "first_visited = set()\n",
    "second_visited = set()\n",
    "\n",
    "first_visited.add(first_santa)\n",
    "second_visited.add(robo_santa)\n",
    "\n",
    "def move(coordinate, instruction):\n",
    "    x, y = coordinate\n",
    "    if instruction == '>':\n",
    "        return (x+1, y)\n",
    "    elif instruction == '<':\n",
    "        return (x-1, y)\n",
    "    elif instruction == 'v':\n",
    "        return (x, y-1)\n",
    "    elif instruction == '^':\n",
    "        return (x, y+1)\n",
    "\n",
    "for index, instruction in enumerate(instructions):\n",
    "    first_santa = move(first_santa, instruction)\n",
    "    first_visited.add(first_santa)\n",
    "    \n",
    "    if index % 2 == 0:\n",
    "        normal_santa = move(normal_santa, instruction)\n",
    "        second_visited.add(normal_santa)\n",
    "    else:\n",
    "        robo_santa = move(robo_santa, instruction)\n",
    "        second_visited.add(robo_santa)\n",
    "\n",
    "print(f'Santa has visited {len(first_visited)} houses')\n",
    "print(f'Santa and Robo-Santa have visited {len(second_visited)} houses')\n",
    "    "
   ]
  },
  {
   "cell_type": "code",
   "execution_count": 1,
   "id": "0a97e471-0355-4580-a942-3c717f3ff2ee",
   "metadata": {},
   "outputs": [
    {
     "name": "stdout",
     "output_type": "stream",
     "text": [
      "The lowest integer to produce a hash starting with five zeros is 282749\n",
      "The lowest integer to produce a hash starting with six zeros is 9962624\n"
     ]
    }
   ],
   "source": [
    "import hashlib\n",
    "\n",
    "input = 'yzbqklnj'\n",
    "counter = 0\n",
    "\n",
    "five_digits = 1e1000\n",
    "six_digits = 1e1000\n",
    "\n",
    "while True:\n",
    "    m = hashlib.md5()\n",
    "    m.update(f'{input}{counter}'.encode('utf-8'))\n",
    "    if m.hexdigest().startswith('00000'):\n",
    "        five_digits = counter if counter < five_digits else five_digits\n",
    "    if m.hexdigest().startswith('000000'):\n",
    "        six_digits = counter if counter < six_digits else six_digits\n",
    "        break\n",
    "    counter += 1\n",
    "print(f'The lowest integer to produce a hash starting with five zeros is {five_digits}')\n",
    "print(f'The lowest integer to produce a hash starting with six zeros is {six_digits}')"
   ]
  },
  {
   "cell_type": "code",
   "execution_count": 10,
   "id": "2a9b7c59-9781-4e9a-be5f-efed32e22060",
   "metadata": {},
   "outputs": [
    {
     "name": "stdout",
     "output_type": "stream",
     "text": [
      "There are 255 nice strings\n",
      "There are 55 nice strings by the new rules\n"
     ]
    }
   ],
   "source": [
    "import re\n",
    "strings = open('input5.txt', 'r').readlines()\n",
    "\n",
    "forbidden = '(ab|cd|pq|xy)'\n",
    "double = '(.)\\\\1'\n",
    "vowel = '[aeiou].*[aeiou].*[aeiou]'\n",
    "\n",
    "def is_nice(string):\n",
    "    return re.search(forbidden, string) is None and re.search(double, string) is not None and re.search(vowel, string) is not None\n",
    "\n",
    "print(f'There are {sum(1 if is_nice(string) else 0 for string in strings)} nice strings')\n",
    "\n",
    "double_repetition = '(..).*\\\\1'\n",
    "space_repetition = '(.).\\\\1'\n",
    "\n",
    "def is_new_nice(string):\n",
    "    return re.search(double_repetition, string) is not None and re.search(space_repetition, string) is not None\n",
    "\n",
    "print(f'There are {sum(1 if is_new_nice(string) else 0 for string in strings)} nice strings by the new rules')"
   ]
  },
  {
   "cell_type": "code",
   "execution_count": 13,
   "id": "d95ab67e-c289-4293-827a-d2f7b31df887",
   "metadata": {},
   "outputs": [
    {
     "name": "stdout",
     "output_type": "stream",
     "text": [
      "There are 400410 lights turned on\n"
     ]
    }
   ],
   "source": [
    "import re\n",
    "\n",
    "instructions = open('input6.txt', 'r').readlines()\n",
    "reader = '(turn on|turn off|toggle) ([0-9]+),([0-9]+) through ([0-9]+),([0-9]+)'\n",
    "turned_on = set()\n",
    "brightness = 0\n",
    "\n",
    "for instruction in instructions:\n",
    "    match = re.search(reader, instruction)\n",
    "    x1 = int(match.group(2))\n",
    "    x2 = int(match.group(4))\n",
    "    y1 = int(match.group(3))\n",
    "    y2 = int(match.group(5))\n",
    "\n",
    "    for x in range(min(x1, x2), max(x1, x2)+1):\n",
    "        for y in range(min(y1, y2), max(y1, y2)+1):\n",
    "            if match.group(1) == 'turn on':\n",
    "                turned_on.add((x,y))\n",
    "            elif match.group(1) == 'turn off':\n",
    "                try:\n",
    "                    turned_on.remove((x,y))\n",
    "                except KeyError:\n",
    "                    pass\n",
    "            else:\n",
    "                if (x,y) in turned_on:\n",
    "                    turned_on.remove((x,y))\n",
    "                else:\n",
    "                    turned_on.add((x,y))\n",
    "print(f'There are {len(turned_on)} lights turned on')"
   ]
  },
  {
   "cell_type": "code",
   "execution_count": null,
   "id": "efa7ccc0-5599-4b94-8911-c2694c7f23fb",
   "metadata": {},
   "outputs": [],
   "source": []
  }
 ],
 "metadata": {
  "kernelspec": {
   "display_name": "Python 3 (ipykernel)",
   "language": "python",
   "name": "python3"
  },
  "language_info": {
   "codemirror_mode": {
    "name": "ipython",
    "version": 3
   },
   "file_extension": ".py",
   "mimetype": "text/x-python",
   "name": "python",
   "nbconvert_exporter": "python",
   "pygments_lexer": "ipython3",
   "version": "3.11.6"
  }
 },
 "nbformat": 4,
 "nbformat_minor": 5
}
