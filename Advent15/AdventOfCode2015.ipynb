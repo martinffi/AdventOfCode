{
 "cells": [
  {
   "cell_type": "code",
   "execution_count": 5,
   "id": "87b8947a-33f0-4cb0-ae84-1fde118c09a8",
   "metadata": {},
   "outputs": [
    {
     "name": "stdout",
     "output_type": "stream",
     "text": [
      "Santa ends up on floor 74\n",
      "He first hits the basement on instruction 1795\n"
     ]
    }
   ],
   "source": [
    "instructions = open('input1.txt', 'r').read()\n",
    "floor = 0\n",
    "hit_basement = False\n",
    "first_basement = 0\n",
    "for index, instruction in enumerate(instructions):\n",
    "    if instruction == '(':\n",
    "        floor += 1\n",
    "    else:\n",
    "        floor -= 1\n",
    "    if floor < 0 and not hit_basement:\n",
    "        first_basement = index+1\n",
    "        hit_basement = True\n",
    "print(f'Santa ends up on floor {floor}')\n",
    "print(f'He first hits the basement on instruction {first_basement}')"
   ]
  },
  {
   "cell_type": "code",
   "execution_count": 17,
   "id": "e89c7210-f608-47de-9553-22a389d113c3",
   "metadata": {},
   "outputs": [
    {
     "name": "stdout",
     "output_type": "stream",
     "text": [
      "The elves need 1606483.0 square feet of wrapping paper\n",
      "The elves need 3842356 feet of ribbon\n"
     ]
    }
   ],
   "source": [
    "boxes = [[int(x) for x in line.split('x')] for line in open('input2.txt', 'r').readlines()]\n",
    "paper_area = 2 * sum(x*y + x*z + y*z + 0.5*min(x*y, x*z, y*z) for x,y,z in boxes)\n",
    "print(f'The elves need {paper_area} square feet of wrapping paper')\n",
    "\n",
    "ribbon = sum(min(2*(x+y), 2*(x+z), 2*(y+z)) + x*y*z for x,y,z in boxes)\n",
    "print(f'The elves need {ribbon} feet of ribbon')"
   ]
  },
  {
   "cell_type": "code",
   "execution_count": 28,
   "id": "dbb007b2-1664-4fd5-97db-8dc184e87a96",
   "metadata": {},
   "outputs": [
    {
     "name": "stdout",
     "output_type": "stream",
     "text": [
      "Santa has visited 2592 houses\n",
      "Santa and Robo-Santa have visited 2360 houses\n"
     ]
    }
   ],
   "source": [
    "instructions = open('input3.txt', 'r').read()\n",
    "visited = set()\n",
    "doubles = set()\n",
    "\n",
    "first_santa = (0,0)\n",
    "normal_santa = (0,0)\n",
    "robo_santa = (0,0)\n",
    "\n",
    "first_visited = set()\n",
    "second_visited = set()\n",
    "\n",
    "first_visited.add(first_santa)\n",
    "second_visited.add(robo_santa)\n",
    "\n",
    "def move(coordinate, instruction):\n",
    "    x, y = coordinate\n",
    "    if instruction == '>':\n",
    "        return (x+1, y)\n",
    "    elif instruction == '<':\n",
    "        return (x-1, y)\n",
    "    elif instruction == 'v':\n",
    "        return (x, y-1)\n",
    "    elif instruction == '^':\n",
    "        return (x, y+1)\n",
    "\n",
    "for index, instruction in enumerate(instructions):\n",
    "    first_santa = move(first_santa, instruction)\n",
    "    first_visited.add(first_santa)\n",
    "    \n",
    "    if index % 2 == 0:\n",
    "        normal_santa = move(normal_santa, instruction)\n",
    "        second_visited.add(normal_santa)\n",
    "    else:\n",
    "        robo_santa = move(robo_santa, instruction)\n",
    "        second_visited.add(robo_santa)\n",
    "\n",
    "print(f'Santa has visited {len(first_visited)} houses')\n",
    "print(f'Santa and Robo-Santa have visited {len(second_visited)} houses')\n",
    "    "
   ]
  },
  {
   "cell_type": "code",
   "execution_count": 1,
   "id": "0a97e471-0355-4580-a942-3c717f3ff2ee",
   "metadata": {},
   "outputs": [
    {
     "name": "stdout",
     "output_type": "stream",
     "text": [
      "The lowest integer to produce a hash starting with five zeros is 282749\n",
      "The lowest integer to produce a hash starting with six zeros is 9962624\n"
     ]
    }
   ],
   "source": [
    "import hashlib\n",
    "\n",
    "input = 'yzbqklnj'\n",
    "counter = 0\n",
    "\n",
    "five_digits = 1e1000\n",
    "six_digits = 1e1000\n",
    "\n",
    "while True:\n",
    "    m = hashlib.md5()\n",
    "    m.update(f'{input}{counter}'.encode('utf-8'))\n",
    "    if m.hexdigest().startswith('00000'):\n",
    "        five_digits = counter if counter < five_digits else five_digits\n",
    "    if m.hexdigest().startswith('000000'):\n",
    "        six_digits = counter if counter < six_digits else six_digits\n",
    "        break\n",
    "    counter += 1\n",
    "print(f'The lowest integer to produce a hash starting with five zeros is {five_digits}')\n",
    "print(f'The lowest integer to produce a hash starting with six zeros is {six_digits}')"
   ]
  },
  {
   "cell_type": "code",
   "execution_count": 10,
   "id": "2a9b7c59-9781-4e9a-be5f-efed32e22060",
   "metadata": {},
   "outputs": [
    {
     "name": "stdout",
     "output_type": "stream",
     "text": [
      "There are 255 nice strings\n",
      "There are 55 nice strings by the new rules\n"
     ]
    }
   ],
   "source": [
    "import re\n",
    "strings = open('input5.txt', 'r').readlines()\n",
    "\n",
    "forbidden = '(ab|cd|pq|xy)'\n",
    "double = '(.)\\\\1'\n",
    "vowel = '[aeiou].*[aeiou].*[aeiou]'\n",
    "\n",
    "def is_nice(string):\n",
    "    return re.search(forbidden, string) is None and re.search(double, string) is not None and re.search(vowel, string) is not None\n",
    "\n",
    "print(f'There are {sum(1 if is_nice(string) else 0 for string in strings)} nice strings')\n",
    "\n",
    "double_repetition = '(..).*\\\\1'\n",
    "space_repetition = '(.).\\\\1'\n",
    "\n",
    "def is_new_nice(string):\n",
    "    return re.search(double_repetition, string) is not None and re.search(space_repetition, string) is not None\n",
    "\n",
    "print(f'There are {sum(1 if is_new_nice(string) else 0 for string in strings)} nice strings by the new rules')"
   ]
  },
  {
   "cell_type": "code",
   "execution_count": 47,
   "id": "d95ab67e-c289-4293-827a-d2f7b31df887",
   "metadata": {},
   "outputs": [
    {
     "name": "stdout",
     "output_type": "stream",
     "text": [
      "Performing instruction 300 of 300\n",
      "There are 400410.0 lights turned on\n",
      "{<GEOMETRYCOLLECTION (POLYGON ((19 70, 22 70, 22 45, 19 45, 19 70)), POLYGON ...>: 1, <GEOMETRYCOLLECTION (POINT (426 899), POINT (426 992), POLYGON ((101 104, 10...>: 2, <GEOMETRYCOLLECTION (POINT (86 527), POINT (266 995), POINT (534 899), POINT...>: 3, <GEOMETRYCOLLECTION (POINT (126 973), POINT (384 995), POINT (426 995), POLY...>: 4, <GEOMETRYCOLLECTION (POINT (289 973), POINT (547 936), POINT (689 899), POLY...>: 5, <GEOMETRYCOLLECTION (POINT (414 973), POINT (717 899), POLYGON ((231 44, 258...>: 6, <GEOMETRYCOLLECTION (POINT (86 583), POINT (688 899), POLYGON ((258 48, 231 ...>: 7, <GEOMETRYCOLLECTION (POINT (547 899), POINT (728 899), POLYGON ((227 55, 227...>: 8, <GEOMETRYCOLLECTION (POINT (688 899), POINT (732 899), POINT (801 117), POLY...>: 9, <GEOMETRYCOLLECTION (POINT (86 614), POINT (86 637), POINT (558 899), POLYGO...>: 10, <GEOMETRYCOLLECTION (POINT (749 899), POINT (903 935), POLYGON ((201 152, 20...>: 11, <GEOMETRYCOLLECTION (POINT (792 899), POINT (799 899), POINT (852 935), POLY...>: 12, <GEOMETRYCOLLECTION (POLYGON ((227 112, 231 112, 231 105, 227 105, 227 112))...>: 13, <GEOMETRYCOLLECTION (POINT (610 899), POINT (717 272), POLYGON ((231 117, 23...>: 14, <GEOMETRYCOLLECTION (POLYGON ((223 117, 223 152, 227 152, 227 117, 223 117))...>: 15, <GEOMETRYCOLLECTION (POINT (722 272), POLYGON ((231 117, 253 117, 253 112, 2...>: 16, <GEOMETRYCOLLECTION (POINT (537 880), POINT (767 272), POLYGON ((253 117, 25...>: 17, <GEOMETRYCOLLECTION (POINT (907 816), POLYGON ((251 128, 253 128, 253 117, 2...>: 18, <GEOMETRYCOLLECTION (POINT (428 591), POINT (544 284), POINT (792 272), POIN...>: 19, <GEOMETRYCOLLECTION (POINT (428 582), POINT (463 582), POINT (478 561), POIN...>: 20, <GEOMETRYCOLLECTION (POINT (428 573), POINT (428 614), POINT (471 561), POIN...>: 21, <GEOMETRYCOLLECTION (POINT (375 718), POINT (375 730), POINT (379 582), POIN...>: 22, <GEOMETRYCOLLECTION (POINT (375 735), POINT (426 441), POINT (445 591), POIN...>: 23, <GEOMETRYCOLLECTION (POINT (433 441), POINT (452 525), POINT (455 284), POIN...>: 24, <GEOMETRYCOLLECTION (POINT (441 401), POINT (445 582), POINT (566 880), POIN...>: 25, <GEOMETRYCOLLECTION (POINT (445 573), POINT (445 687), POINT (455 284), POIN...>: 26, <GEOMETRYCOLLECTION (POINT (445 569), POINT (445 681), POINT (445 700), POIN...>: 27, <GEOMETRYCOLLECTION (POINT (471 354), POINT (547 516), POINT (689 448), POIN...>: 28, <GEOMETRYCOLLECTION (POINT (560 540), POINT (560 550), POINT (594 880), POLY...>: 29, <GEOMETRYCOLLECTION (POINT (468 354), POINT (734 599), POINT (851 665), POIN...>: 30, <GEOMETRYCOLLECTION (POINT (449 408), POINT (560 569), POINT (560 652), POIN...>: 31, <GEOMETRYCOLLECTION (POINT (566 448), POINT (576 448), POINT (576 450), POIN...>: 32, <GEOMETRYCOLLECTION (POINT (449 354), POINT (449 396), POINT (455 354), POIN...>: 33, <GEOMETRYCOLLECTION (POINT (576 516), POINT (734 621), POINT (851 615), POIN...>: 34, <GEOMETRYCOLLECTION (POINT (449 354), POINT (547 718), POINT (590 448), POIN...>: 35, <GEOMETRYCOLLECTION (POINT (594 448), POLYGON ((455 333, 452 333, 452 337, 4...>: 36, <GEOMETRYCOLLECTION (POINT (851 723), POLYGON ((452 333, 451 333, 451 337, 4...>: 37, <GEOMETRYCOLLECTION (POLYGON ((449 333, 449 337, 451 337, 451 333, 449 333))...>: 38, <GEOMETRYCOLLECTION (POLYGON ((591 498, 590 498, 590 507, 591 507, 591 498))...>: 39, <GEOMETRYCOLLECTION (POLYGON ((591 482, 593 482, 593 477, 591 477, 591 482))...>: 40, <GEOMETRYCOLLECTION (POLYGON ((584 677, 584 675, 583 675, 583 677, 584 677))...>: 41, <GEOMETRYCOLLECTION (POLYGON ((572 686, 576 686, 576 684, 572 684, 572 686))...>: 42, <GEOMETRYCOLLECTION (POINT (703 723), POLYGON ((588 675, 584 675, 584 677, 5...>: 43, <GEOMETRYCOLLECTION (POLYGON ((593 675, 591 675, 591 677, 593 677, 593 675))...>: 44, <GEOMETRYCOLLECTION (POLYGON ((593 677, 594 677, 594 675, 593 675, 593 677))...>: 45, <GEOMETRYCOLLECTION (POLYGON ((594 684, 594 677, 593 677, 593 684, 594 684))...>: 46, <GEOMETRYCOLLECTION (POLYGON ((591 686, 593 686, 593 684, 591 684, 591 686))...>: 47, <GEOMETRYCOLLECTION (POLYGON ((593 684, 593 686, 594 686, 594 684, 593 684))...>: 48, <GEOMETRYCOLLECTION (POINT (664 723), POLYGON ((593 687, 594 687, 594 686, 5...>: 49, <GEOMETRYCOLLECTION (POLYGON ((591 689, 593 689, 593 687, 591 687, 591 689))...>: 50, <MULTIPOLYGON (((594 689, 594 687, 593 687, 593 689, 594 689)), ((588 711, 5...>: 51, <MULTIPOLYGON (((594 718, 594 711, 593 711, 593 718, 594 718)), ((584 729, 5...>: 52, <MULTIPOLYGON (((594 718, 593 718, 593 723, 593 729, 594 729, 594 723, 594 7...>: 53, <POLYGON ((594 732, 593 732, 593 741, 594 741, 594 732))>: 54}\n",
      "The total brightness is 15343601.0\n"
     ]
    }
   ],
   "source": [
    "import re\n",
    "from shapely.geometry import Polygon, Point\n",
    "from shapely import intersects, intersection, unary_union\n",
    "\n",
    "instructions = open('input6.txt', 'r').readlines()\n",
    "reader = '(turn on|turn off|toggle) ([0-9]+),([0-9]+) through ([0-9]+),([0-9]+)'\n",
    "turned_on = None\n",
    "strengths = {}\n",
    "\n",
    "for index, instruction in enumerate(instructions):\n",
    "    print(f'\\rPerforming instruction {index+1} of {len(instructions)}', end='')\n",
    "    match = re.search(reader, instruction)\n",
    "    x1 = int(match.group(2))\n",
    "    x2 = int(match.group(4))\n",
    "    y1 = int(match.group(3))\n",
    "    y2 = int(match.group(5))\n",
    "\n",
    "    area = Polygon([(x1, y1), (x1, y2+1), (x2+1, y2+1), (x2+1, y1)])\n",
    "    if intersects(area, turned_on):\n",
    "        affected = area.difference(turned_on)\n",
    "        intersected = intersection(area, turned_on)\n",
    "        still_on = turned_on.difference(area)\n",
    "    \n",
    "        if match.group(1) == 'turn on':\n",
    "            turned_on = unary_union([affected, intersected, still_on])\n",
    "        elif match.group(1) == 'toggle':\n",
    "            turned_on = unary_union([affected, still_on])\n",
    "        elif match.group(1) == 'turn off':\n",
    "            turned_on = still_on\n",
    "    else:\n",
    "        if match.group(1) == 'turn on' or match.group(1) == 'toggle':\n",
    "            turned_on = unary_union([area, turned_on])\n",
    "\n",
    "    new_strengths = {}\n",
    "    for strength_area in strengths:\n",
    "        strength = strengths[strength_area]\n",
    "\n",
    "        if intersects(area, strength_area):\n",
    "            affected = intersection(area, strength_area)\n",
    "            unaffected = strength_area.difference(area)\n",
    "            area = area.difference(strength_area)\n",
    "\n",
    "            new_strengths[unaffected] = strength\n",
    "            if match.group(1) == 'turn on':\n",
    "                new_strengths[affected] = strength + 1\n",
    "            elif match.group(1) == 'toggle':\n",
    "                new_strengths[affected] = strength + 2\n",
    "            elif match.group(1) == 'turn off' and strength > 1:\n",
    "                new_strengths[affected] = strength - 1\n",
    "        else:\n",
    "            new_strengths[strength_area] = strength\n",
    "\n",
    "    if area.area > 0:\n",
    "        if match.group(1) == 'turn on':\n",
    "            new_strengths[area] = 1\n",
    "        elif match.group(1) == 'toggle':\n",
    "            new_strengths[area] = 2\n",
    "\n",
    "    strengths = {unary_union([area for area, area_strength in new_strengths.items() if area_strength == strength]): strength for strength in set(new_strengths.values())}\n",
    "        \n",
    "\n",
    "print(f'\\nThere are {turned_on.area} lights turned on')\n",
    "print(f'The total brightness is {sum(area.area * strength for area, strength in strengths.items())}')"
   ]
  },
  {
   "cell_type": "code",
   "execution_count": 72,
   "id": "efa7ccc0-5599-4b94-8911-c2694c7f23fb",
   "metadata": {},
   "outputs": [
    {
     "name": "stdout",
     "output_type": "stream",
     "text": [
      "The signal on wire a is 956\n",
      "14146 -> b\n",
      "\n",
      "The new signal on wire a is 40149\n"
     ]
    }
   ],
   "source": [
    "import re\n",
    "instructions = open('input7.txt', 'r').readlines()\n",
    "\n",
    "gates = {}\n",
    "\n",
    "single_input = '^(\\w+) -> (\\w+)$'\n",
    "not_input = '^NOT (\\w+) -> (\\w+)$'\n",
    "and_input = '^(\\w+) AND (\\w+) -> (\\w+)$'\n",
    "or_input = '^(\\w+) OR (\\w+) -> (\\w+)$'\n",
    "lshift_input = '^(\\w+) LSHIFT (\\w+) -> (\\w+)$'\n",
    "rshift_input = '^(\\w+) RSHIFT (\\w+) -> (\\w+)$'\n",
    "\n",
    "target_check = '-> (\\w+)$'\n",
    "non_overwritable_target = ''\n",
    "\n",
    "def get_value(input):\n",
    "    if input.isdigit():\n",
    "        return int(input)\n",
    "    elif input in gates:\n",
    "        return gates[input]\n",
    "\n",
    "    return None\n",
    "\n",
    "def perform_instructions():\n",
    "    while len(instructions) > 0 and 'a' not in gates:\n",
    "        performed_indices = []\n",
    "        for index, instruction in enumerate(instructions):\n",
    "            if re.search(target_check, instruction).group(1) == non_overwritable_target:\n",
    "                print(instruction)\n",
    "                performed_indices.append(index)\n",
    "                continue\n",
    "            \n",
    "            performed = False\n",
    "            if (match := re.search(single_input, instruction)) is not None:\n",
    "                if (value := get_value(match.group(1))) is not None:\n",
    "                    gates[match.group(2)] = value\n",
    "                    performed = True\n",
    "                    \n",
    "            elif (match := re.search(not_input, instruction)) is not None:\n",
    "                if (value := get_value(match.group(1))) is not None:\n",
    "                    gates[match.group(2)] = value ^ 65535\n",
    "                    performed = True\n",
    "    \n",
    "            elif (match := re.search(and_input, instruction)) is not None:\n",
    "                if (value1 := get_value(match.group(1))) is not None and (value2 := get_value(match.group(2))) is not None:\n",
    "                    gates[match.group(3)] = value1 & value2\n",
    "                    performed = True\n",
    "    \n",
    "            elif (match := re.search(or_input, instruction)) is not None:\n",
    "                if (value1 := get_value(match.group(1))) is not None and (value2 := get_value(match.group(2))) is not None:\n",
    "                    gates[match.group(3)] = value1 | value2\n",
    "                    performed = True\n",
    "    \n",
    "            elif (match := re.search(lshift_input, instruction)) is not None:\n",
    "                if (value1 := get_value(match.group(1))) is not None and (value2 := get_value(match.group(2))) is not None:\n",
    "                    gates[match.group(3)] = (value1 << value2) & 65535\n",
    "                    performed = True\n",
    "    \n",
    "            elif (match := re.search(rshift_input, instruction)) is not None:\n",
    "                if (value1 := get_value(match.group(1))) is not None and (value2 := get_value(match.group(2))) is not None:\n",
    "                    gates[match.group(3)] = (value1 >> value2) & 65535\n",
    "                    performed = True\n",
    "    \n",
    "            if performed:\n",
    "                performed_indices.append(index)\n",
    "    \n",
    "        for performed_index in sorted(performed_indices, reverse=True):\n",
    "            del instructions[performed_index]\n",
    "\n",
    "perform_instructions()\n",
    "print(f'The signal on wire a is {gates[\"a\"]}')\n",
    "\n",
    "gates = {'b': gates['a']}\n",
    "non_overwritable_target = 'b'\n",
    "instructions = open('input7.txt', 'r').readlines()\n",
    "perform_instructions()\n",
    "print(f'The new signal on wire a is {gates[\"a\"]}')"
   ]
  },
  {
   "cell_type": "code",
   "execution_count": null,
   "id": "51919f60-a456-44fe-91ba-2e9671ac425c",
   "metadata": {},
   "outputs": [],
   "source": []
  }
 ],
 "metadata": {
  "kernelspec": {
   "display_name": "Python 3 (ipykernel)",
   "language": "python",
   "name": "python3"
  },
  "language_info": {
   "codemirror_mode": {
    "name": "ipython",
    "version": 3
   },
   "file_extension": ".py",
   "mimetype": "text/x-python",
   "name": "python",
   "nbconvert_exporter": "python",
   "pygments_lexer": "ipython3",
   "version": "3.11.6"
  }
 },
 "nbformat": 4,
 "nbformat_minor": 5
}
