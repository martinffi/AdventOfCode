{
 "cells": [
  {
   "cell_type": "code",
   "execution_count": null,
   "id": "fcce70ac-4a60-4e7c-993a-2062c1a51e95",
   "metadata": {},
   "outputs": [],
   "source": []
  },
  {
   "cell_type": "code",
   "execution_count": 1,
   "id": "acb7cb03-5e58-4bd9-8d6a-81d8557ab1a5",
   "metadata": {},
   "outputs": [
    {
     "name": "stdout",
     "output_type": "stream",
     "text": [
      "The sum of the differences between the numbers in the list is 3508942\n",
      "The similarity score is 26593248\n"
     ]
    }
   ],
   "source": [
    "lines = open('input1.txt', 'r').readlines()\n",
    "left_list = []\n",
    "right_list = []\n",
    "for line in lines:\n",
    "\tfirst, second = line.split('   ')\n",
    "\tleft_list.append(int(first))\n",
    "\tright_list.append(int(second))\n",
    "left_list.sort()\n",
    "right_list.sort()\n",
    "\n",
    "difference = sum(abs(a-b) for a,b in zip(left_list, right_list))\n",
    "print(f'The sum of the differences between the numbers in the list is {difference}')\n",
    "\n",
    "numbers = set(right_list)\n",
    "counts = {}\n",
    "for number in numbers:\n",
    "\tcounts[number] = right_list.count(number)\n",
    "\n",
    "similarity_score = sum(number*counts[number] for number in left_list if number in counts)\n",
    "print(f'The similarity score is {similarity_score}')"
   ]
  },
  {
   "cell_type": "code",
   "execution_count": 7,
   "id": "4b279ba7-6a5a-4cef-b9fe-12b974e1d66b",
   "metadata": {},
   "outputs": [
    {
     "name": "stdout",
     "output_type": "stream",
     "text": [
      "The number of safe readings is 213\n",
      "The number of safe dampened readings is 285\n"
     ]
    }
   ],
   "source": [
    "readings = open('input2.txt', 'r').readlines()\n",
    "\n",
    "def is_safe(line):\n",
    "\tincreasing = True\n",
    "\tdecreasing = True\n",
    "\tcorrect_difference = True\n",
    "\tprevious = -1\n",
    "\tfor x in line.split(' '):\n",
    "\t\tx = int(x)\n",
    "\t\tif previous != -1:\n",
    "\t\t\tif x > previous:\n",
    "\t\t\t\tdecreasing = False\n",
    "\t\t\tif x < previous:\n",
    "\t\t\t\tincreasing = False\n",
    "\t\t\tif not 1 <= abs(x - previous) <= 3:\n",
    "\t\t\t\tcorrect_difference = False\n",
    "\t\tprevious = x\n",
    "\tif not correct_difference or not (increasing or decreasing):\n",
    "\t\treturn False\n",
    "\telse:\n",
    "\t\treturn True\n",
    "\n",
    "safe_readings = sum(1 if safe else 0 for safe in [is_safe(line) for line in readings])\n",
    "print(f'The number of safe readings is {safe_readings}')\n",
    "\n",
    "# Brute force the problem dampener\n",
    "safe_dampened_readings = 0\n",
    "for reading in readings:\n",
    "\tif is_safe(reading):\n",
    "\t\tsafe_dampened_readings += 1\n",
    "\t\tcontinue\n",
    "\tnumbers = reading.split(' ')\n",
    "\tfor i in range(len(numbers)):\n",
    "\t\tdampened_reading = ' '.join(numbers[:i] + numbers[i+1:])\n",
    "\t\tif is_safe(dampened_reading):\n",
    "\t\t\tsafe_dampened_readings += 1\n",
    "\t\t\tbreak\n",
    "\n",
    "print(f'The number of safe dampened readings is {safe_dampened_readings}')"
   ]
  },
  {
   "cell_type": "code",
   "execution_count": 15,
   "id": "b56073a4-a4b7-4926-bc67-84bdee569849",
   "metadata": {},
   "outputs": [
    {
     "name": "stdout",
     "output_type": "stream",
     "text": [
      "The sum of the real instructions is 166357705\n",
      "The sum of all conditional muls is 88811886\n"
     ]
    }
   ],
   "source": [
    "import re\n",
    "instructions = open('input3.txt', 'r').read()\n",
    "non_corrupt = re.findall('mul\\\\((\\\\d+),(\\\\d+)\\\\)',instructions)\n",
    "print(f'The sum of the real instructions is {sum(int(a)*int(b) for a,b in non_corrupt)}')\n",
    "\n",
    "# Do or don't\n",
    "enabled = True\n",
    "total = 0\n",
    "\n",
    "finished = False\n",
    "remaining_instructions = instructions\n",
    "while not finished:\n",
    "\tfirst_do = re.search('do\\\\(\\\\)', remaining_instructions)\n",
    "\tfirst_dont = re.search('don\\'t\\\\(\\\\)', remaining_instructions)\n",
    "\tfirst_mul = re.search('mul\\\\((\\\\d+),(\\\\d+)\\\\)', remaining_instructions)\n",
    "\n",
    "\tif first_do is None and first_dont is None and first_mul is None:\n",
    "\t\tfinished = True\n",
    "\t\tbreak\n",
    "\n",
    "\tdo_hit = dont_hit = mul_hit = len(remaining_instructions)\n",
    "\tif first_do is not None:\n",
    "\t\tdo_hit = first_do.span()[0]\n",
    "\tif first_dont is not None:\n",
    "\t\tdont_hit = first_dont.span()[0]\n",
    "\tif first_mul is not None:\n",
    "\t\tmul_hit = first_mul.span()[0]\n",
    "\n",
    "\tif do_hit < dont_hit and do_hit < mul_hit:\n",
    "\t\tenabled = True\n",
    "\t\tremaining_instructions = remaining_instructions[first_do.span()[1]:]\n",
    "\t\t\n",
    "\tif dont_hit < do_hit and dont_hit < mul_hit:\n",
    "\t\tenabled = False\n",
    "\t\tremaining_instructions = remaining_instructions[first_dont.span()[1]:]\n",
    "\n",
    "\tif mul_hit < do_hit and mul_hit < dont_hit:\n",
    "\t\tif enabled:\n",
    "\t\t\ttotal += int(first_mul.group(1)) * int(first_mul.group(2))\n",
    "\t\tremaining_instructions = remaining_instructions[first_mul.span()[1]:]\n",
    "print(f'The sum of all conditional muls is {total}')"
   ]
  },
  {
   "cell_type": "code",
   "execution_count": 9,
   "id": "1560a7f8-7ccc-4f8d-992c-cf0a45f314cb",
   "metadata": {},
   "outputs": [
    {
     "name": "stdout",
     "output_type": "stream",
     "text": [
      "Found XMAS 2718 times\n",
      "Found X-MAS 2046 times\n"
     ]
    }
   ],
   "source": [
    "word_search = open('input4.txt', 'r').readlines()\n",
    "\n",
    "directions = [\n",
    "\t(1, 0),\n",
    "\t(1, 1),\n",
    "\t(0, 1),\n",
    "\t(-1, 1),\n",
    "\t(-1, 0),\n",
    "\t(-1, -1),\n",
    "\t(0, -1),\n",
    "\t(1, -1)\n",
    "]\n",
    "\n",
    "def look_for_word(row, column):\n",
    "\tif word_search[row][column] != 'X':\n",
    "\t\treturn 0\n",
    "\n",
    "\twords_found = 0\n",
    "\tfor direction in directions:\n",
    "\t\tfor i in range(3):\n",
    "\t\t\tnew_row = row + direction[1]*(i+1)\n",
    "\t\t\tnew_column = column + direction[0]*(i+1)\n",
    "\n",
    "\t\t\tif new_row < 0 or new_row >= len(word_search):\n",
    "\t\t\t\tbreak\n",
    "\t\t\tif new_column < 0 or new_column >= len(word_search[new_row]):\n",
    "\t\t\t\tbreak\n",
    "\n",
    "\t\t\tnew_letter = word_search[new_row][new_column]\n",
    "\t\t\tif i == 0 and new_letter != 'M':\n",
    "\t\t\t\tbreak\n",
    "\t\t\tif i == 1 and new_letter != 'A':\n",
    "\t\t\t\tbreak\n",
    "\t\t\tif i == 2 and new_letter == 'S':\n",
    "\t\t\t\twords_found += 1\n",
    "\n",
    "\treturn words_found\n",
    "\n",
    "def look_for_xmas(row, column):\n",
    "\tif word_search[row][column] != 'A':\n",
    "\t\treturn 0\n",
    "\n",
    "\tif (not 0 < row < len(word_search) - 1) or (not 0 < column < len(word_search[column]) - 1):\n",
    "\t\treturn 0\n",
    "\n",
    "\tfirst_diagonal = word_search[row-1][column-1] + word_search[row+1][column+1]\n",
    "\tif (not 'M' in first_diagonal) or (not 'S' in first_diagonal):\n",
    "\t\treturn 0\n",
    "\n",
    "\tsecond_diagonal = word_search[row-1][column+1] + word_search[row+1][column-1]\n",
    "\tif (not 'M' in second_diagonal) or (not 'S' in second_diagonal):\n",
    "\t\treturn 0\n",
    "\n",
    "\treturn 1\n",
    "\n",
    "words_found = 0\n",
    "x_mases_found = 0\n",
    "for row in range(len(word_search)):\n",
    "\tfor column in range(len(word_search[row])):\n",
    "\t\twords_found += look_for_word(row, column)\n",
    "\t\tx_mases_found += look_for_xmas(row, column)\n",
    "print(f'Found XMAS {words_found} times')\n",
    "print(f'Found X-MAS {x_mases_found} times')"
   ]
  },
  {
   "cell_type": "code",
   "execution_count": null,
   "id": "629c8bb1-87df-49f1-87e3-5de0520b786d",
   "metadata": {},
   "outputs": [],
   "source": []
  }
 ],
 "metadata": {
  "kernelspec": {
   "display_name": "Python 3 (ipykernel)",
   "language": "python",
   "name": "python3"
  },
  "language_info": {
   "codemirror_mode": {
    "name": "ipython",
    "version": 3
   },
   "file_extension": ".py",
   "mimetype": "text/x-python",
   "name": "python",
   "nbconvert_exporter": "python",
   "pygments_lexer": "ipython3",
   "version": "3.12.7"
  }
 },
 "nbformat": 4,
 "nbformat_minor": 5
}
