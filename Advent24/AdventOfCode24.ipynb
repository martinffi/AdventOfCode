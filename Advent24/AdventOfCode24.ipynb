{
 "cells": [
  {
   "cell_type": "code",
   "execution_count": 11,
   "id": "acb7cb03-5e58-4bd9-8d6a-81d8557ab1a5",
   "metadata": {},
   "outputs": [
    {
     "name": "stdout",
     "output_type": "stream",
     "text": [
      "The sum of the differences between the numbers in the list is 3508942\n",
      "The similarity score is 26593248\n"
     ]
    }
   ],
   "source": [
    "lines = open('input1.txt', 'r').readlines()\n",
    "left_list = []\n",
    "right_list = []\n",
    "for line in lines:\n",
    "\tfirst, second = line.split('   ')\n",
    "\tleft_list.append(int(first))\n",
    "\tright_list.append(int(second))\n",
    "left_list.sort()\n",
    "right_list.sort()\n",
    "\n",
    "difference = sum(abs(a-b) for a,b in zip(left_list, right_list))\n",
    "print(f'The sum of the differences between the numbers in the list is {difference}')\n",
    "\n",
    "numbers = set(right_list)\n",
    "counts = {}\n",
    "for number in numbers:\n",
    "\tcounts[number] = right_list.count(number)\n",
    "\n",
    "similarity_score = sum(number*counts[number] for number in left_list if number in counts)\n",
    "print(f'The similarity score is {similarity_score}')"
   ]
  },
  {
   "cell_type": "code",
   "execution_count": null,
   "id": "4b279ba7-6a5a-4cef-b9fe-12b974e1d66b",
   "metadata": {},
   "outputs": [],
   "source": []
  }
 ],
 "metadata": {
  "kernelspec": {
   "display_name": "Python 3 (ipykernel)",
   "language": "python",
   "name": "python3"
  },
  "language_info": {
   "codemirror_mode": {
    "name": "ipython",
    "version": 3
   },
   "file_extension": ".py",
   "mimetype": "text/x-python",
   "name": "python",
   "nbconvert_exporter": "python",
   "pygments_lexer": "ipython3",
   "version": "3.12.7"
  }
 },
 "nbformat": 4,
 "nbformat_minor": 5
}
